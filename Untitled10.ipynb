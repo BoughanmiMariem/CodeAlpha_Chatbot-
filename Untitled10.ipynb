{
  "cells": [
    {
      "cell_type": "markdown",
      "metadata": {
        "id": "view-in-github",
        "colab_type": "text"
      },
      "source": [
        "<a href=\"https://colab.research.google.com/github/BoughanmiMariem/CodeAlpha_Chatbot-/blob/main/Untitled10.ipynb\" target=\"_parent\"><img src=\"https://colab.research.google.com/assets/colab-badge.svg\" alt=\"Open In Colab\"/></a>"
      ]
    },
    {
      "cell_type": "code",
      "execution_count": null,
      "metadata": {
        "colab": {
          "base_uri": "https://localhost:8080/"
        },
        "id": "x8R_Sf7y_A5l",
        "outputId": "08206de1-2d02-4490-c1ad-bb18f09a8ebd"
      },
      "outputs": [
        {
          "name": "stdout",
          "output_type": "stream",
          "text": [
            "Requirement already satisfied: nltk in /usr/local/lib/python3.10/dist-packages (3.8.1)\n",
            "Requirement already satisfied: click in /usr/local/lib/python3.10/dist-packages (from nltk) (8.1.7)\n",
            "Requirement already satisfied: joblib in /usr/local/lib/python3.10/dist-packages (from nltk) (1.4.2)\n",
            "Requirement already satisfied: regex>=2021.8.3 in /usr/local/lib/python3.10/dist-packages (from nltk) (2024.5.15)\n",
            "Requirement already satisfied: tqdm in /usr/local/lib/python3.10/dist-packages (from nltk) (4.66.5)\n"
          ]
        }
      ],
      "source": [
        "!pip install nltk\n"
      ]
    },
    {
      "cell_type": "code",
      "execution_count": 2,
      "metadata": {
        "colab": {
          "base_uri": "https://localhost:8080/"
        },
        "id": "QHOPFA95_u0T",
        "outputId": "b3662251-68e2-459f-ca19-13fed1f9c135"
      },
      "outputs": [
        {
          "output_type": "stream",
          "name": "stderr",
          "text": [
            "[nltk_data] Downloading package punkt to /root/nltk_data...\n",
            "[nltk_data]   Package punkt is already up-to-date!\n",
            "[nltk_data] Downloading package stopwords to /root/nltk_data...\n",
            "[nltk_data]   Package stopwords is already up-to-date!\n"
          ]
        },
        {
          "output_type": "stream",
          "name": "stdout",
          "text": [
            "Welcome! 😊 You can ask multiple questions. When you're done, type 'close' to exit.\n",
            "Ask a question: hi\n",
            "Hello, how can we help you today?\n",
            "Ask a question: what is the product\n",
            "To maintain the product, clean it with a damp cloth and mild detergent. Avoid using abrasive cleaners or submerging it in water. For detailed maintenance instructions, please refer to the user manual.\n",
            "Ask a question: close\n",
            "Thank you for using our service. Goodbye!\n"
          ]
        }
      ],
      "source": [
        "import nltk\n",
        "from nltk.tokenize import word_tokenize\n",
        "from nltk.corpus import stopwords\n",
        "from nltk.stem import PorterStemmer\n",
        "\n",
        "# Télécharger les ressources nécessaires\n",
        "nltk.download('punkt')\n",
        "nltk.download('stopwords')\n",
        "\n",
        "# Initialiser le stemmer et la liste des mots vides\n",
        "stemmer = PorterStemmer()\n",
        "stop_words = set(stopwords.words('english'))\n",
        "\n",
        "# Exemple de questions et réponses\n",
        "faq = {\n",
        "    \"Hi\": \"Hello, how can we help you today?\",\n",
        "    \"what is your return policy?\": \"Our return policy lasts 30 days.\",\n",
        "    \"how can I track my order?\": \"You can track your order using the tracking link provided in the confirmation email.\",\n",
        "    \"How should I maintain and clean this product?\": \"To maintain the product, clean it with a damp cloth and mild detergent. Avoid using abrasive cleaners or submerging it in water. For detailed maintenance instructions, please refer to the user manual.\",\n",
        "    \"Is this product available in different sizes/colors?\": \"Yes, this product is available in various sizes and colors. You can choose your preferred option from the selection available on our website.\",\n",
        "    \"What are the benefits of this product compared to similar products?\": \"This product offers superior durability and performance compared to others. It features an innovative design for better functionality and ease of use. Additionally, it comes with a longer warranty period.\",\n",
        "    \"Is this product covered by a warranty? What is the duration of the warranty?\": \"Yes, this product comes with a one-year warranty that covers manufacturing defects. For more details, please check the warranty terms included with your purchase.\",\n",
        "    \"How can I return this product if I'm not satisfied?\": \"If you are not satisfied with your purchase, you can return the product within 30 days for a full refund. Please contact our customer service for instructions on the return process.\",\n",
        "    \"What are the delivery times for this product?\": \"Delivery times vary depending on your location. Typically, orders are processed within 1-2 business days and delivered within 5-7 business days. For expedited shipping options, please refer to the shipping information on our website.\"\n",
        "}\n",
        "\n",
        "# Fonction de prétraitement\n",
        "def preprocess(text):\n",
        "    tokens = word_tokenize(text.lower())\n",
        "    tokens = [stemmer.stem(word) for word in tokens if word not in stop_words]\n",
        "    return tokens\n",
        "\n",
        "# Fonction pour trouver la réponse à une question\n",
        "def get_response(question):\n",
        "    question_tokens = preprocess(question)\n",
        "    for q, a in faq.items():\n",
        "        q_tokens = preprocess(q)\n",
        "        if set(question_tokens).intersection(set(q_tokens)):\n",
        "            return a\n",
        "    return \"Sorry, I don't understand your question.\"\n",
        "\n",
        "# Message de bienvenue\n",
        "print(\"Welcome! 😊 You can ask multiple questions. When you're done, type 'close' to exit.\")\n",
        "\n",
        "# Boucle pour poser plusieurs questions\n",
        "while True:\n",
        "    question = input(\"Ask a question: \")\n",
        "    if question.lower() == \"close\":\n",
        "        print(\"Thank you for using our service. Goodbye!\")\n",
        "        break\n",
        "    print(get_response(question))\n",
        "\n",
        "\n"
      ]
    }
  ],
  "metadata": {
    "colab": {
      "provenance": [],
      "authorship_tag": "ABX9TyPhdiv03GZczMGIGwEq0e+W",
      "include_colab_link": true
    },
    "kernelspec": {
      "display_name": "Python 3",
      "name": "python3"
    },
    "language_info": {
      "name": "python"
    }
  },
  "nbformat": 4,
  "nbformat_minor": 0
}